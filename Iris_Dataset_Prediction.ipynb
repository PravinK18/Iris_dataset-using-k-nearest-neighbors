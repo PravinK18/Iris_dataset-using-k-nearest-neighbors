{
  "nbformat": 4,
  "nbformat_minor": 0,
  "metadata": {
    "colab": {
      "name": "Iris_Dataset_Prediction.ipynb",
      "provenance": [],
      "collapsed_sections": []
    },
    "kernelspec": {
      "name": "python3",
      "display_name": "Python 3"
    }
  },
  "cells": [
    {
      "cell_type": "markdown",
      "metadata": {
        "id": "iUZralGRulFJ"
      },
      "source": [
        "# **Author: Pravin Konasirasgi**\r\n",
        "\r\n",
        "\r\n",
        "**MACHINE LEARNING BOOTCAMP PROJECT POWERED BY SHAPE AI**\r\n",
        "\r\n",
        "**Project name: Iris_dataset using k-nearest neighbors**\r\n",
        "\r\n",
        "**Task: Prediction using Supervised Machine Learning**\r\n",
        "\r\n",
        "**Problem Statement: Given the length and width of sepals and petals (in cms), predict the category type of species of iris.**\r\n",
        "\r\n",
        "**I will be performing the following steps:-**\r\n",
        "\r\n",
        "*  Data reading and understanding\r\n",
        "*  Exploratory Data Analysis\r\n",
        "*  Building a k-nearest neighbor Machine Learning Model\r\n",
        "*  Model Evaluation and Prediction\r\n"
      ]
    },
    {
      "cell_type": "markdown",
      "metadata": {
        "id": "8K5VfHWEkr4U"
      },
      "source": [
        "#**Importing important Libraries:**\r\n",
        "\r\n",
        "***Let's import some of the libraries that we will be using in this module:***"
      ]
    },
    {
      "cell_type": "code",
      "metadata": {
        "id": "mpqeBm5kdUE2"
      },
      "source": [
        "import pandas as pd\r\n",
        "import numpy as np"
      ],
      "execution_count": null,
      "outputs": []
    },
    {
      "cell_type": "markdown",
      "metadata": {
        "id": "mpLqDCpvijrj"
      },
      "source": [
        "#**Data Exploration:**\r\n",
        "\r\n",
        "***Here we use the Iris dataset which is included in scikit-learn in the datasets module. We load it by using load_iris function:***"
      ]
    },
    {
      "cell_type": "code",
      "metadata": {
        "id": "jMJ8Dyembtyn"
      },
      "source": [
        "from sklearn.datasets import load_iris\r\n",
        "iris_dataset=load_iris()"
      ],
      "execution_count": null,
      "outputs": []
    },
    {
      "cell_type": "markdown",
      "metadata": {
        "id": "B9Y4grawkMHZ"
      },
      "source": [
        "***The iris object returned by load_iris is a Bunch object contains keys and values:***"
      ]
    },
    {
      "cell_type": "code",
      "metadata": {
        "colab": {
          "base_uri": "https://localhost:8080/"
        },
        "id": "RkGTzwj4cYXP",
        "outputId": "98334b0b-a1b4-41c3-d3ed-bd094343ebc6"
      },
      "source": [
        "print(\"Keys of iris dataset: \\n{}\".format(iris_dataset.keys()))"
      ],
      "execution_count": null,
      "outputs": [
        {
          "output_type": "stream",
          "text": [
            "Keys of iris dataset: \n",
            "dict_keys(['data', 'target', 'target_names', 'DESCR', 'feature_names', 'filename'])\n"
          ],
          "name": "stdout"
        }
      ]
    },
    {
      "cell_type": "markdown",
      "metadata": {
        "id": "rZs3OqnYlgnE"
      },
      "source": [
        "***The value of the key DESCR contains:***"
      ]
    },
    {
      "cell_type": "code",
      "metadata": {
        "colab": {
          "base_uri": "https://localhost:8080/"
        },
        "id": "2tGyJYxBc75P",
        "outputId": "dfffdbaa-5cc3-4c7e-b382-0b5110509546"
      },
      "source": [
        "val=iris_dataset['DESCR']\r\n",
        "start_val=val[:200]\r\n",
        "print(start_val+\"\\n...\")"
      ],
      "execution_count": null,
      "outputs": [
        {
          "output_type": "stream",
          "text": [
            ".. _iris_dataset:\n",
            "\n",
            "Iris plants dataset\n",
            "--------------------\n",
            "\n",
            "**Data Set Characteristics:**\n",
            "\n",
            "    :Number of Instances: 150 (50 in each of three classes)\n",
            "    :Number of Attributes: 4 numeric, predictive\n",
            "...\n"
          ],
          "name": "stdout"
        }
      ]
    },
    {
      "cell_type": "markdown",
      "metadata": {
        "id": "50joQIO_mEIr"
      },
      "source": [
        "***The value of the key target_names is an array of strings, containing the species of flower that we want to predict i.e 'setosa', 'versicolor' and 'virginica'.***"
      ]
    },
    {
      "cell_type": "code",
      "metadata": {
        "colab": {
          "base_uri": "https://localhost:8080/"
        },
        "id": "R7aBahVAegCV",
        "outputId": "91a54fc4-c342-43c9-a639-823e7ca80a29"
      },
      "source": [
        "print(\"Target names: {}\".format(iris_dataset['target_names']))"
      ],
      "execution_count": null,
      "outputs": [
        {
          "output_type": "stream",
          "text": [
            "Target names: ['setosa' 'versicolor' 'virginica']\n"
          ],
          "name": "stdout"
        }
      ]
    },
    {
      "cell_type": "markdown",
      "metadata": {
        "id": "e_-EszGvn1rI"
      },
      "source": [
        "***The value of feature_names is a list of strings, giving the description of each feature it includes the 'sepal length', 'sepal width', 'petal length' and the 'petal width' all in cms.***"
      ]
    },
    {
      "cell_type": "code",
      "metadata": {
        "colab": {
          "base_uri": "https://localhost:8080/"
        },
        "id": "ei_hvHD2fhTW",
        "outputId": "5adea098-b72c-4649-a976-d53e8c1c0957"
      },
      "source": [
        "print(\"Feature names: \\n{}\".format(iris_dataset['feature_names']))"
      ],
      "execution_count": null,
      "outputs": [
        {
          "output_type": "stream",
          "text": [
            "Feature names: \n",
            "['sepal length (cm)', 'sepal width (cm)', 'petal length (cm)', 'petal width (cm)']\n"
          ],
          "name": "stdout"
        }
      ]
    },
    {
      "cell_type": "markdown",
      "metadata": {
        "id": "5gxqGooen4GK"
      },
      "source": [
        "***The data contains numeric measurements of sepal length, sepal width, sepal width, petal lengh and petal width in a NumPy array:***"
      ]
    },
    {
      "cell_type": "code",
      "metadata": {
        "colab": {
          "base_uri": "https://localhost:8080/"
        },
        "id": "cdDAPcukgFRe",
        "outputId": "c0de3d2f-92f6-41bf-d496-f442f84af45b"
      },
      "source": [
        "print(\"Type of dara: {}\".format(type(iris_dataset['data'])))"
      ],
      "execution_count": null,
      "outputs": [
        {
          "output_type": "stream",
          "text": [
            "Type of dara: <class 'numpy.ndarray'>\n"
          ],
          "name": "stdout"
        }
      ]
    },
    {
      "cell_type": "markdown",
      "metadata": {
        "id": "L4SXS1e8oQpS"
      },
      "source": [
        "***In this data array, the rows correspond to the flowers & the columns represent the four measurements that were taken for each flower:***"
      ]
    },
    {
      "cell_type": "code",
      "metadata": {
        "colab": {
          "base_uri": "https://localhost:8080/"
        },
        "id": "UFLylWRJgakU",
        "outputId": "49f39d98-0826-457c-f508-9c0c97b240cb"
      },
      "source": [
        "print(\"Shape of data: {}\".format(iris_dataset['data'].shape))"
      ],
      "execution_count": null,
      "outputs": [
        {
          "output_type": "stream",
          "text": [
            "Shape of data: (150, 4)\n"
          ],
          "name": "stdout"
        }
      ]
    },
    {
      "cell_type": "markdown",
      "metadata": {
        "id": "2dm2OiZBpdVH"
      },
      "source": [
        "***We see that the array contains measurements for 150 different flowers.So we have 150 data points and 4 features. Here are the feature values for the first five samples:***"
      ]
    },
    {
      "cell_type": "code",
      "metadata": {
        "colab": {
          "base_uri": "https://localhost:8080/"
        },
        "id": "8NTwq-CTg4HN",
        "outputId": "cab35625-6a24-46bf-ef1a-5412e53c233b"
      },
      "source": [
        "print(\"First five columns of data:\\n{}\".format(iris_dataset['data'][:5]))"
      ],
      "execution_count": null,
      "outputs": [
        {
          "output_type": "stream",
          "text": [
            "First five columns of data:\n",
            "[[5.1 3.5 1.4 0.2]\n",
            " [4.9 3.  1.4 0.2]\n",
            " [4.7 3.2 1.3 0.2]\n",
            " [4.6 3.1 1.5 0.2]\n",
            " [5.  3.6 1.4 0.2]]\n"
          ],
          "name": "stdout"
        }
      ]
    },
    {
      "cell_type": "markdown",
      "metadata": {
        "id": "hvdhh4S4plBR"
      },
      "source": [
        "***We can see that the first five flowers have a petal width of 0.2 cm & that the first flower has the longest sepal at 5.1 cm.***\r\n",
        "\r\n",
        "***Let's come to the target key containing the species of each of the flowers that were measured, also as a NumPy array:***"
      ]
    },
    {
      "cell_type": "code",
      "metadata": {
        "colab": {
          "base_uri": "https://localhost:8080/"
        },
        "id": "N0Xc_x1MhSWc",
        "outputId": "790ff868-0db2-49a6-b5c5-007f18c68fd7"
      },
      "source": [
        "print(\"Type of target: {}\".format(type(iris_dataset['target'])))"
      ],
      "execution_count": null,
      "outputs": [
        {
          "output_type": "stream",
          "text": [
            "Type of target: <class 'numpy.ndarray'>\n"
          ],
          "name": "stdout"
        }
      ]
    },
    {
      "cell_type": "markdown",
      "metadata": {
        "id": "sQXVY3rDrC6I"
      },
      "source": [
        "***target is a one-dimensional array & it contains one entry per flower:***"
      ]
    },
    {
      "cell_type": "code",
      "metadata": {
        "colab": {
          "base_uri": "https://localhost:8080/"
        },
        "id": "py782_Fwhj5T",
        "outputId": "00152e03-e992-4d69-ec6b-02080d318b43"
      },
      "source": [
        "print(\"Shape of data: {}\".format(iris_dataset['target'].shape))"
      ],
      "execution_count": null,
      "outputs": [
        {
          "output_type": "stream",
          "text": [
            "Shape of data: (150,)\n"
          ],
          "name": "stdout"
        }
      ]
    },
    {
      "cell_type": "markdown",
      "metadata": {
        "id": "3-AslvQVrZq7"
      },
      "source": [
        "***Now we can see that the species are encoded as integers from 0 to 2:***"
      ]
    },
    {
      "cell_type": "code",
      "metadata": {
        "colab": {
          "base_uri": "https://localhost:8080/"
        },
        "id": "7zws7eKQhvcN",
        "outputId": "30ce805c-690a-4c5c-ca28-4ad986c652d1"
      },
      "source": [
        "print(\"Target:\\n{}\".format(iris_dataset['target']))"
      ],
      "execution_count": null,
      "outputs": [
        {
          "output_type": "stream",
          "text": [
            "Target:\n",
            "[0 0 0 0 0 0 0 0 0 0 0 0 0 0 0 0 0 0 0 0 0 0 0 0 0 0 0 0 0 0 0 0 0 0 0 0 0\n",
            " 0 0 0 0 0 0 0 0 0 0 0 0 0 1 1 1 1 1 1 1 1 1 1 1 1 1 1 1 1 1 1 1 1 1 1 1 1\n",
            " 1 1 1 1 1 1 1 1 1 1 1 1 1 1 1 1 1 1 1 1 1 1 1 1 1 1 2 2 2 2 2 2 2 2 2 2 2\n",
            " 2 2 2 2 2 2 2 2 2 2 2 2 2 2 2 2 2 2 2 2 2 2 2 2 2 2 2 2 2 2 2 2 2 2 2 2 2\n",
            " 2 2]\n"
          ],
          "name": "stdout"
        }
      ]
    },
    {
      "cell_type": "markdown",
      "metadata": {
        "id": "rYA39eHarvwp"
      },
      "source": [
        "***The meanings of the numbers are given by the iris['target_names'] array: 0 means setosa, 1 means versicolor and 2 means virginica.***"
      ]
    },
    {
      "cell_type": "markdown",
      "metadata": {
        "id": "rpdU4XIKsl3c"
      },
      "source": [
        "#**Measuring Success: Training and Testing Data:**"
      ]
    },
    {
      "cell_type": "code",
      "metadata": {
        "id": "9T4b4mZ_eVul"
      },
      "source": [
        "from sklearn.model_selection import train_test_split\r\n",
        "X_train, X_test, y_train, y_test = train_test_split(\r\n",
        "    iris_dataset['data'], iris_dataset['target'], random_state=0)"
      ],
      "execution_count": null,
      "outputs": []
    },
    {
      "cell_type": "markdown",
      "metadata": {
        "id": "eHJVKLTZg-8I"
      },
      "source": [
        "***The output of the train_test_split function is X_train, X_test, y_train and y_test, which are all NumPy arrays. X_train contains 75% of the rows of the dataset and X_test contains the remaining 25%:***"
      ]
    },
    {
      "cell_type": "code",
      "metadata": {
        "colab": {
          "base_uri": "https://localhost:8080/"
        },
        "id": "-wbI-3ADi6_k",
        "outputId": "01f4fb11-b212-4108-a663-df5be113ddef"
      },
      "source": [
        "print(\"X_train shape: {}\".format(X_train.shape))\r\n",
        "print(\"y_train shape: {}\".format(y_train.shape))\r\n",
        "print(\"X_test shape: {}\".format(X_test.shape))\r\n",
        "print(\"y_test shape: {}\".format(y_test.shape))"
      ],
      "execution_count": null,
      "outputs": [
        {
          "output_type": "stream",
          "text": [
            "X_train shape: (112, 4)\n",
            "y_train shape: (112,)\n",
            "X_test shape: (38, 4)\n",
            "y_test shape: (38,)\n"
          ],
          "name": "stdout"
        }
      ]
    },
    {
      "cell_type": "markdown",
      "metadata": {
        "id": "7MfVnaL0kX6W"
      },
      "source": [
        "#**Building the k-nearest neighbor Machine Learning Algorithm Model:**\r\n",
        "\r\n",
        "***The most important parameter of KNeighbors Classifier is the number of neigbors, which we will set to 1:***"
      ]
    },
    {
      "cell_type": "code",
      "metadata": {
        "id": "odDmCrTwmkKu"
      },
      "source": [
        "from sklearn.neighbors import KNeighborsClassifier\r\n",
        "knn=KNeighborsClassifier(n_neighbors=1)"
      ],
      "execution_count": null,
      "outputs": []
    },
    {
      "cell_type": "markdown",
      "metadata": {
        "id": "k3FH014vnd6T"
      },
      "source": [
        "#**Training the entire model on the training data:**\r\n",
        "\r\n"
      ]
    },
    {
      "cell_type": "code",
      "metadata": {
        "colab": {
          "base_uri": "https://localhost:8080/"
        },
        "id": "rcs7x8PInQlK",
        "outputId": "15ffceaf-3c45-49df-be2a-30823c0eb634"
      },
      "source": [
        "knn.fit(X_train, y_train)\r\n"
      ],
      "execution_count": null,
      "outputs": [
        {
          "output_type": "execute_result",
          "data": {
            "text/plain": [
              "KNeighborsClassifier(algorithm='auto', leaf_size=30, metric='minkowski',\n",
              "                     metric_params=None, n_jobs=None, n_neighbors=1, p=2,\n",
              "                     weights='uniform')"
            ]
          },
          "metadata": {
            "tags": []
          },
          "execution_count": 16
        }
      ]
    },
    {
      "cell_type": "markdown",
      "metadata": {
        "id": "a7Fu_laYnzqD"
      },
      "source": [
        "#**Making Predictions:**\r\n",
        "\r\n",
        "***We can now make predictions using this model on new data for which we might not know the correct labels:***"
      ]
    },
    {
      "cell_type": "code",
      "metadata": {
        "colab": {
          "base_uri": "https://localhost:8080/"
        },
        "id": "Jx_fSYfBooP4",
        "outputId": "b22c6319-6e87-44e1-9b82-e3f4902e3638"
      },
      "source": [
        "X_new=np.array([[5,2.9,1,0.2]])\r\n",
        "print(\"X_new.shape: {}\".format(X_new.shape))"
      ],
      "execution_count": null,
      "outputs": [
        {
          "output_type": "stream",
          "text": [
            "X_new.shape: (1, 4)\n"
          ],
          "name": "stdout"
        }
      ]
    },
    {
      "cell_type": "markdown",
      "metadata": {
        "id": "3zCGpCmRqEUr"
      },
      "source": [
        "***To make a prediction, we call the prediction method of the knn object:***"
      ]
    },
    {
      "cell_type": "code",
      "metadata": {
        "colab": {
          "base_uri": "https://localhost:8080/"
        },
        "id": "lzOI7QjzqNqQ",
        "outputId": "e1c1eadb-204c-4148-b712-7a584f5f3f83"
      },
      "source": [
        "prediction=knn.predict(X_new)\r\n",
        "\r\n",
        "print(\"Prediction: {}\".format(prediction))\r\n",
        "print(\"Predicted target name: {}\".format(\r\n",
        "iris_dataset['target_names'][prediction]))"
      ],
      "execution_count": null,
      "outputs": [
        {
          "output_type": "stream",
          "text": [
            "Prediction: [0]\n",
            "Predicted target name: ['setosa']\n"
          ],
          "name": "stdout"
        }
      ]
    },
    {
      "cell_type": "markdown",
      "metadata": {
        "id": "jwfbsnw6rK5a"
      },
      "source": [
        "#**Evaluating the Model:**\r\n",
        "\r\n",
        "***Here we will be testing the model on the tested dataset:***"
      ]
    },
    {
      "cell_type": "code",
      "metadata": {
        "colab": {
          "base_uri": "https://localhost:8080/"
        },
        "id": "r-whCO8yr2fm",
        "outputId": "c18d2426-7ec1-4609-a2d9-44baf6362b43"
      },
      "source": [
        "y_pred=knn.predict(X_test)\r\n",
        "print(\"Test set predictions:\\n {}\".format(y_pred))"
      ],
      "execution_count": null,
      "outputs": [
        {
          "output_type": "stream",
          "text": [
            "Test set predictions:\n",
            " [2 1 0 2 0 2 0 1 1 1 2 1 1 1 1 0 1 1 0 0 2 1 0 0 2 0 0 1 1 0 2 1 0 2 2 1 0\n",
            " 2]\n"
          ],
          "name": "stdout"
        }
      ]
    },
    {
      "cell_type": "markdown",
      "metadata": {
        "id": "_dXIp1r6sPxJ"
      },
      "source": [
        "#**Checking if the predictions are right:**"
      ]
    },
    {
      "cell_type": "code",
      "metadata": {
        "colab": {
          "base_uri": "https://localhost:8080/"
        },
        "id": "rVU4b5BlscAx",
        "outputId": "6723a721-7648-4a62-c8bc-0e699e24beb8"
      },
      "source": [
        "print(\"Test set score: {}\".format(np.mean(y_pred == y_test)))"
      ],
      "execution_count": null,
      "outputs": [
        {
          "output_type": "stream",
          "text": [
            "Test set score: 0.9736842105263158\n"
          ],
          "name": "stdout"
        }
      ]
    },
    {
      "cell_type": "markdown",
      "metadata": {
        "id": "NfS7oha9tnko"
      },
      "source": [
        "***This is the accuracy of the model we have created.***"
      ]
    }
  ]
}